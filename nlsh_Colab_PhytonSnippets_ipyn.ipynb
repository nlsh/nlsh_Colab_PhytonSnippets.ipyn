{
  "nbformat": 4,
  "nbformat_minor": 0,
  "metadata": {
    "colab": {
      "provenance": [],
      "toc_visible": true,
      "mount_file_id": "1hwJfCJZLAiLLLC1E5udVcjnHRMUgCiMS",
      "authorship_tag": "ABX9TyOmSTXxj0U0bmgV7GMAbsEV",
      "include_colab_link": true
    },
    "kernelspec": {
      "name": "python3",
      "display_name": "Python 3"
    },
    "language_info": {
      "name": "python"
    }
  },
  "cells": [
    {
      "cell_type": "markdown",
      "metadata": {
        "id": "view-in-github",
        "colab_type": "text"
      },
      "source": [
        "<a href=\"https://colab.research.google.com/github/nlsh/nlsh_Colab_PhytonSnippets.ipyn/blob/main/nlsh_Colab_PhytonSnippets_ipyn.ipynb\" target=\"_parent\"><img src=\"https://colab.research.google.com/assets/colab-badge.svg\" alt=\"Open In Colab\"/></a>"
      ]
    },
    {
      "cell_type": "markdown",
      "source": [
        "# csv- Export- Debitoren Datei für Datev korrigieren (csvDatei)\n",
        "\n",
        "viele externe Rechnungslegungs- Programme versuchen sich am Export ihrer Daten\n",
        "nach DATEV.\n",
        "\n",
        "Ich bin mir jetzt nicht sicher, liegt der resultierende Export an der Unkenntnis\n",
        "des Programmschreibers, des vor dem Monitor Sitzenden, oder an DATEV...\n",
        "\n",
        "Egal, hier geht es darum, dem Namen des Debitores um die Kurzbezeichnung zu\n",
        "erweitern, da der Mandant/ der Programmierer 'Vornamen* und 'Kurzbezeichnung'\n",
        "nicht der **Norm/DATEV- Verständniss** erlag.\n",
        "\n",
        "Also hier wird nur nachgeschaut, ob die ersten 4 Buchstaben von 'Name' und \n",
        "'Kurzbezeichnung' gleich sind, wenn nicht, dann 'Name' ist die Summe von\n",
        "'Name' + ', ' + 'Kurzbezeichnung', ansonsten bleibt es beim 'Namen'"
      ],
      "metadata": {
        "id": "A9Ah_Vn-aTo8"
      }
    },
    {
      "cell_type": "code",
      "execution_count": 3,
      "metadata": {
        "id": "Cauzko1QlTAG"
      },
      "outputs": [],
      "source": [
        "import csv  # CSV Dateien\n",
        "import os   # Pfadangabe\n",
        "import sys  # System ( übergebene Argumente...)\n",
        "\n",
        "# hiernach kopieren\n",
        "#_______________________________________________________________________________\n",
        "\n",
        "def csvDateiHbtDebitorenKorrigieren(csvDatei):\n",
        "\n",
        "    # neue Liste initialisieren\n",
        "    listNeu = []\n",
        "\n",
        "    # Pfad sichern\n",
        "    pfadCsvDatei = os.path.dirname(csvDatei)\n",
        "\n",
        "    # CSV Datei zeilenweise einlesen\n",
        "    # encoding = 'ISO-8859-1' -> DATEV lebt in der Windows- Welt\n",
        "    with open(csvDatei, encoding = 'ISO-8859-1') as csvdatei:\n",
        "        csvReaderObject = csv.reader(csvdatei, delimiter=';', quotechar='\"')\n",
        "        \n",
        "        zeilennummer = 0\n",
        "        for row in csvReaderObject:\n",
        "\n",
        "             # 1. Zeile sichern\n",
        "            if zeilennummer == 0:\n",
        "                firstRow = row\n",
        "\n",
        "            # 2. Zeile sichern\n",
        "            if zeilennummer == 1:\n",
        "                secendRow = row\n",
        "\n",
        "            # Jetzt neue Daten hinzufügen\n",
        "            # Zeilennummer > 1 heißt, ab dritter Zeile, dort stehen die Daten\n",
        "            if zeilennummer > 1:\n",
        "\n",
        "                # Name zusammenbasteln\n",
        "                # Vergleich der ersten 4 Zeichen von 'Name' und ' Kurzbezeichnung'\n",
        "                # wenn nicht gleich, dann 'Name' = 'Name' + ', ' + 'Kurzbezeichnung.\n",
        "                if row[1][:4] != row[7][:4]:\n",
        "                    row[1] = row[1] + ', ' + row[7]\n",
        "\n",
        "                listNeu.append(row)\n",
        "\n",
        "            zeilennummer += 1\n",
        "        \n",
        "        # CSV Dateien schreiben\n",
        "\n",
        "        zu_schreiben = []\n",
        "\n",
        "        # Erste Zeile hinzufügen\n",
        "        zu_schreiben.append(firstRow)\n",
        "\n",
        "        # Zweite Zeile hinzufügen\n",
        "        zu_schreiben.append(secendRow)\n",
        "\n",
        "        # Daten hinzufügen\n",
        "        for i in listNeu:\n",
        "            if i:\n",
        "                zu_schreiben.append(i)\n",
        "\n",
        "        # Pfad und Namen der zu schreibenden Dateien erstellen\n",
        "        name_write_csv_file = pfadCsvDatei + 'neu.csv'\n",
        "\n",
        "        # encoding = 'ISO-8859-1' -> DATEV lebt in der Windows- Welt\n",
        "        with open(name_write_csv_file, mode='w', encoding = 'ISO-8859-1') as csv_file:\n",
        "            # Wichtig hier der lineterminator='\\n', entfernt ein zusätzliches CR am Zeilenende!!!!!\n",
        "            csv_writer = csv.writer(csv_file, delimiter=';', quotechar='\"', lineterminator='\\n')\n",
        "\n",
        "            for row in zu_schreiben:\n",
        "                csv_writer.writerow(row)\n",
        "#_______________________________________________________________________________\n",
        "# Ende kopieren\n",
        "\n",
        "# ab hier nur für Colab, zum Aufruf, Testen und Entwickeln der Funktion\n",
        "\n",
        "# Aufruf der Funktion mit Übergabe der Datei inklusive Pfad\n",
        "# ;-) natürlich nur im eigenem Google- Drive\n",
        "csvDateiHbtDebitorenKorrigieren('/content/drive/MyDrive/Colab Notebooks/Colab_Test_Dateien/nlsh_Colab_HBT_Debitoren/20221201KbAc.csv')"
      ]
    }
  ]
}