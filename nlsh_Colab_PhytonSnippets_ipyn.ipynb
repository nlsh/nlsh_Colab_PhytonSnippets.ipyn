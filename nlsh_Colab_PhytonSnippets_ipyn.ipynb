{
  "nbformat": 4,
  "nbformat_minor": 0,
  "metadata": {
    "colab": {
      "provenance": [],
      "toc_visible": true,
      "mount_file_id": "1hwJfCJZLAiLLLC1E5udVcjnHRMUgCiMS",
      "authorship_tag": "ABX9TyOTDORwWo05pCB36Hq1SpsX",
      "include_colab_link": true
    },
    "kernelspec": {
      "name": "python3",
      "display_name": "Python 3"
    },
    "language_info": {
      "name": "python"
    }
  },
  "cells": [
    {
      "cell_type": "markdown",
      "metadata": {
        "id": "view-in-github",
        "colab_type": "text"
      },
      "source": [
        "<a href=\"https://colab.research.google.com/github/nlsh/nlsh_Colab_PhytonSnippets.ipyn/blob/main/nlsh_Colab_PhytonSnippets_ipyn.ipynb\" target=\"_parent\"><img src=\"https://colab.research.google.com/assets/colab-badge.svg\" alt=\"Open In Colab\"/></a>"
      ]
    },
    {
      "cell_type": "markdown",
      "source": [
        "# csv- Debitoren Datei für Datev korrigieren (csvDatei)\n",
        "\n",
        "importiert die Debitoren- Datei eines Mandanten aus seinem System und korrigiert den Namen des Debitoren für Datev RW"
      ],
      "metadata": {
        "id": "A9Ah_Vn-aTo8"
      }
    },
    {
      "cell_type": "code",
      "execution_count": 9,
      "metadata": {
        "id": "Cauzko1QlTAG"
      },
      "outputs": [],
      "source": [
        "import csv  # CSV Dateien\n",
        "import os   # Pfadangabe\n",
        "import sys  # System ( übergebene Argumente...)\n",
        "\n",
        "# hiernach kopieren\n",
        "#_______________________________________________________________________________\n",
        "\n",
        "def csvDateiHbtDebitorenKorrigieren(csvDatei):\n",
        "\n",
        "    # Liste initialisieren\n",
        "    listNeu = []\n",
        "\n",
        "    # Pfad sichern\n",
        "    pfad_csvDatei = os.path.dirname(csvDatei)\n",
        "\n",
        "    # CSV Datei zeilenweise einlesen\n",
        "    with open(csvDatei, encoding = 'ISO-8859-1') as csvdatei:\n",
        "        csvReaderObject = csv.reader(csvdatei, delimiter=';', quotechar='\"')\n",
        "        \n",
        "        zeilennummer = 0\n",
        "        for row in csvReaderObject:\n",
        "\n",
        "             # 1. Zeile sichern\n",
        "            if zeilennummer == 0:\n",
        "                firstRow = row\n",
        "\n",
        "            # 2. Zeile sichern\n",
        "            if zeilennummer == 1:\n",
        "                secendRow = row\n",
        "\n",
        "            # Jetzt neue Daten hinzufügen\n",
        "            # Zeilennummer > 1 heißt, ab dritter Zeile, dort stehen die Daten\n",
        "            if zeilennummer > 1:\n",
        "\n",
        "                # Name zusammenbasteln\n",
        "                # Vergleich der ersten 4 Zeichen von 'Name' und ' Kurzbezeichnung'\n",
        "                # wenn nicht gleich, dann 'Name' = 'Name' + ', ' + 'Kurzbezeichnung.\n",
        "                if row[1][:4] != row[7][:4]:\n",
        "                    row[1] = row[1] + ', ' + row[7]\n",
        "\n",
        "                listNeu.append(row)\n",
        "\n",
        "            zeilennummer += 1\n",
        "        \n",
        "        # CSV Dateien schreiben\n",
        "\n",
        "        zu_schreiben = []\n",
        "\n",
        "        # Erste Zeile hinzufügen\n",
        "        zu_schreiben.append(firstRow)\n",
        "\n",
        "        # Zweite Zeile hinzufügen\n",
        "        zu_schreiben.append(secendRow)\n",
        "\n",
        "        # Daten hinzufügen\n",
        "        for i in listNeu:\n",
        "            if i:\n",
        "                zu_schreiben.append(i)\n",
        "\n",
        "        # Pfad und Namen der zu schreibenden Dateien erstellen\n",
        "        name_write_csv_file = pfad_csvDatei + 'neu.csv'\n",
        "\n",
        "        with open(name_write_csv_file, mode='w', encoding = 'ISO-8859-1') as csv_file:\n",
        "            # Wichtig hier der lineterminator='\\n', entfernt ein zusätzliches CR am Zeilenende!!!!!\n",
        "            csv_writer = csv.writer(csv_file, delimiter=';', quotechar='\"', lineterminator='\\n')\n",
        "\n",
        "            for row in zu_schreiben:\n",
        "                csv_writer.writerow(row)\n",
        "#_______________________________________________________________________________\n",
        "# Ende kopieren\n",
        "\n",
        "# ab hier nur für Colab, zum Aufruf, Testen und entwickeln der Funktion\n",
        "\n",
        "# Aufruf der Funktion mit Übergabe der Datei inklusive Pfad\n",
        "# ;-) natürlich nur im eigenem Google- Drive\n",
        "csvDateiHbtDebitorenKorrigieren('/content/drive/MyDrive/Colab Notebooks/Colab_Test_Dateien/nlsh_Colab_HBT_Debitoren/20221201KbAc.csv')"
      ]
    }
  ]
}